{
 "cells": [
  {
   "cell_type": "code",
   "execution_count": null,
   "metadata": {
    "id": "ul-J-uTxUCHN"
   },
   "outputs": [],
   "source": [
    "!pip install earthengine-api --quiet > /dev/null 2>&1\n",
    "!pip install earthengine-api geemap folium -q --quiet > /dev/null 2>&1"
   ]
  },
  {
   "cell_type": "code",
   "execution_count": null,
   "metadata": {
    "colab": {
     "base_uri": "https://localhost:8080/",
     "height": 621,
     "referenced_widgets": [
      "0d8f1c21bb4640ef8a5e2d4726bdb130",
      "b621e062c7064e33b4c466d1d2440fe9",
      "6cde86ba3fd34a74a9bd828c8e334807",
      "4e342aa775d0455186d4ea8f428c84e7",
      "2d9c71a9cffe420f801d269e049b8f29",
      "67d5043a2cda4831b776d7d4fe63e67f",
      "13578f64d1f349128485d61165aaacf3",
      "d7bf5c7271ba45938025e71b4c7252c5",
      "d0c33b54272b45eaaba07a374d8fcba2",
      "4a7fe12f663246eab140e7b6a62193d2",
      "1c1e8c39fb3343d69ec593fbbf9798d2",
      "2ccb084b95944f3aac2c64d62547d3fb",
      "e1d32c240cfb413eb76501987f42d64b",
      "1ac3e381f38242bfa2ad4455f3e5981f",
      "29ffb1257e054b598fb97dc321bd7a2d",
      "5068e4ba5c68491c8878a85121921dda",
      "f5db767c4eb44223896282b9f0eab6cb",
      "078bc560cf464286b2ece1bf0cb0525b",
      "852bb347cb054521b46dbe9fd5ee797b",
      "1126e9d9a6f3420da84263ac72c2d622",
      "2e0f37ffcc984860ba1ffff44dca3d0b",
      "fae338685f4640bdb80cbd592c2dccbd",
      "fab7489c0dca47449475d9a6b0c8eb35",
      "06595b656c934a409810235bbe67aae1",
      "bcf61595b6724bf5b1bf33d2320e176b",
      "addc1d26b29c496492c8ca39ef7e3539",
      "9d3d61595d3646fe947603a73c8028fc",
      "c34227a9a58648579be1dbdc4a14dc58",
      "571c153ebf4b4da0bcda21ac35df348c",
      "858993c9bc0b4308b3856dacd8f914c9",
      "1fcc679e57094ac6854e2c4a76a5d97f",
      "83cb18855c0841ffbf6e6b3dbb217771",
      "2b5fc969ce5d4384b23a3957d2f06ec7",
      "745f3feff3c34dc4af4ef257ef2a3bca",
      "1d3b2a8c5657453794494919c4ff303c",
      "32db081c3f4b42fe8a1eb5c91b0d7716",
      "f263fe47c65d4fee95670cc1052f3792",
      "67cb8275f2224bd8bad087dbff902e92",
      "da27920867a345a299e40057724ee5a4",
      "56e4f03258c5496393192932e3f6ae55",
      "bb0eb3026e9148ca8efb580d73be9ae3",
      "2be57c1a8fa14a18af92950d3f129048",
      "e196b912597349a79939e83c27efba67",
      "f75b748d890a40d293d4d83c91076634",
      "72e43f8589904d65aa9c8b0a1d4b4fce",
      "470beb011cb04852b853b8e8de2fb7e6",
      "5d9f702777bf4736b207751ec15a3671",
      "0877b2398dc04b4f86cb98df664b0be4",
      "cdeb1de86328492a970f2f93efb7ace4",
      "6d18360b41664dbf98d516db3955f5ab",
      "90e5d75eb8ec482fadb0637c24e46f75",
      "50334d623d374689897694352cf82c74",
      "bdfd3bcb5186470f9dbfda08927f9774",
      "87072a8f7743405e9f9c60a40e450642",
      "382b02ee7d9a406684f623fafe771136",
      "58edba92dbad4a3d92025fd3962fb3a8",
      "8ebe5a4284eb4b5fbacd52b6713edfb8",
      "628848f34b9144ed948642555a0fa54a",
      "162f7054586a43de9fd53627c9699a0d",
      "d1c40ec599f34d6fa28e60b2dc26f16a",
      "a5f83c111f7f4e47b51132f8ee7912df",
      "c8683e522e3449e589ed183bcfd28e2f",
      "e246a3574bd04c0eaf7dae629d1b35ac",
      "a7fbb2f7738c4d65b4cb6c75111e50b8",
      "6028f6ec9bac47a7b6f999564cb85289",
      "494425a96df54a6cbbeaf51f9dd487cc",
      "489e8cafafd84e4ab349955fb1162de9",
      "7de6dc135632431aaea7072b353e035f",
      "1e2a64786a6d45d28e210ff94389d1c9",
      "e85305bf71714ed8a0b3244237c8a827",
      "0b46d89f7f734efbb7349d412c03c687",
      "dffa4def0f2a40a3966e3d7b74fa3087",
      "f9c2592789d848589355239fa3f19743",
      "d9493771c4524ef2bf3dd3bb2eacd5c5",
      "753679b0462049d68ecea99922e13252"
     ]
    },
    "id": "gRu7QHcTfNZD",
    "outputId": "b70b31f4-7294-426c-b394-d9e2643064e4"
   },
   "outputs": [
    {
     "data": {
      "application/vnd.jupyter.widget-view+json": {
       "model_id": "0d8f1c21bb4640ef8a5e2d4726bdb130",
       "version_major": 2,
       "version_minor": 0
      },
      "text/plain": [
       "Map(center=[20, 0], controls=(WidgetControl(options=['position', 'transparent_bg'], widget=SearchDataGUI(child…"
      ]
     },
     "metadata": {
      "application/vnd.jupyter.widget-view+json": {
       "colab": {
        "custom_widget_manager": {
         "url": "https://ssl.gstatic.com/colaboratory-static/widgets/colab-cdn-widget-manager/2b70e893a8ba7c0f/manager.min.js"
        }
       }
      }
     },
     "output_type": "display_data"
    }
   ],
   "source": [
    "import folium\n",
    "from geemap import Map\n",
    "import ee\n",
    "\n",
    "# 1. Google Earth Engine の認証\n",
    "ee.Authenticate()\n",
    "# 'your-project-id' を実際の Google Cloud プロジェクト ID に置き換えてください\n",
    "ee.Initialize(project='coral-mode-426910-u5')\n",
    "\n",
    "# 2. 気温データ（ERA5-Land, 2020年7月）\n",
    "dataset = (ee.ImageCollection('ECMWF/ERA5_LAND/MONTHLY_BY_HOUR')\n",
    "           .filter(ee.Filter.date('2020-07-01', '2020-08-01'))\n",
    "           .select('temperature_2m'))\n",
    "\n",
    "# 3. 可視化の設定（暖色系ヒートマップ）\n",
    "visualization = {\n",
    "    'min': 273.0,  # 0°C\n",
    "    'max': 313.0,  # 40°C\n",
    "    'palette': [\n",
    "        'blue',      # 低温（寒い）\n",
    "        'green',     # 温暖\n",
    "        'yellow',    # 暖かい\n",
    "        'red',       # 高温（暑い）\n",
    "        'darkred'    # 非常に暑い\n",
    "    ]\n",
    "}\n",
    "\n",
    "# 4. geemap で地図を表示\n",
    "# 地図の初期化（中心座標を設定）\n",
    "m = Map(center=[20, 0], zoom=2)\n",
    "\n",
    "# GEE のデータを地図に追加\n",
    "m.addLayer(dataset.mean(), visualization, 'Average Temperature (°K)')\n",
    "\n",
    "# folium で地図を描画\n",
    "m"
   ]
  },
  {
   "cell_type": "code",
   "execution_count": null,
   "metadata": {
    "colab": {
     "base_uri": "https://localhost:8080/",
     "height": 621,
     "referenced_widgets": [
      "ef1af3d2e9ac4223bcd018c89222a926",
      "246e38ffdd164147b1c35d0412beb2c8",
      "1da175bf14b9461cbfe9dd1420e93500",
      "5030a09e87434303bdebbe33f495d50f",
      "b300333149e5455cb86b4683d503639b",
      "3b0a2262676947faa39d94769a12816a",
      "ce188d101a2344d9aaabd207b7d1a154",
      "4fe295975659428c9f078f82f762d7cb",
      "daceb6d75d354ecdaee1445d2d941032",
      "c7e4219b0f3f40229e17235829ba8509",
      "410bf40c1b7e410eac8b54e9e0843762",
      "7a8b742150fa4d9fa0e45a557229408f",
      "31dac975aade4bf78a9ef75e3d8c9e08",
      "3a8eb15580714d8ba4b9b458ca365761",
      "988060a6419c40d1adf39ab07fc1d001",
      "ec6601b5f487422799da23b676d2db91",
      "ca6ce942da7b47549582389e5a8144e6",
      "6d812a7ccf6449a19446f77526a0110a",
      "9850ddffb1b84b1b8df6536b8c08d023",
      "abd34ab8c4114fd5a5bfbc207a61b06b",
      "7982c9ce2aac4bdc9bc3cda124a695f2",
      "45518267609540df82f1fef61dd98a0e",
      "8b22f846ef8a4a8b96a72dc26ea86720",
      "0cc77467b83e4110b4572c18aec357fd",
      "d17a0ab3bbbb44b5b175073889f78e7b",
      "30217ba337844e6e915054c7b7744ce6",
      "f32611dcceae45439022da977d82fa51",
      "dfb9b053f90f48e8a0865a45b269b5bd",
      "d3f68fd767de4a399035a1d02f9eab9c",
      "1ed4ae7abecb465fa5177233919c47c1",
      "6516bc2ab2ed4bbfbfbed2d9cbcd18cc",
      "37e557a9918749c7a3b3ab7b3d588f8c",
      "bfce9ab9236541328ac8ccff11fa430e",
      "c3fdb69ca1704fce90948a63185bd312",
      "c903cc4aeedc4cc9acb230e70710005d",
      "c0bdb39f1e064b159ad944e666891deb",
      "67ea5375f7b54f3a9f7105a4c27b04c7",
      "6d5d2eb28af34df887d14c293316fc40",
      "86082a69f41144ec8134855078f4f249",
      "592a2a9674c742439072bad54ecb834a",
      "a798898e5a5a47f3b5bc93b6009fe071",
      "62713622b8b747c08a16a4c668f91641",
      "52121dfbd63c4e73addaa159d023889f",
      "d37c68fd4b1343a5809e99412483a5b7",
      "2ae6b4373c2b4d73a318e579896d176d",
      "1baf026bec184733a5df099fc8fee3ee",
      "6dc8e7a9171a4d4791c1539c3f92da84",
      "a6f9f1260dcb45d6ba277ac91b35d238",
      "0f4120b5457e4e2dad9f6e65bbf3a28d",
      "0897283ebd754a51a434356a60b96a25",
      "7bb81e407f4e4712b2741043fecfc268",
      "34199c435ae44eecacb2a633cd035a03",
      "4bcdcc75f0114de89686c34a33a6dd34",
      "bbeef04722894f3d962c5277be6aaf3c",
      "ac4fbd9962b84e87aa14389a34043ee4",
      "27f127d650b54e32af7a0a4ee056927d",
      "c2f29aeb2c3b429ca6fc2100aa112a69",
      "190d420c7f77432c832fd329ddcbf5ca",
      "74dd5f863426466fa69de58a45e50ee6",
      "1ff4c066dec640b599b6cc881ddb36e3",
      "fa7947fa65bb4705a276f24e57b54701",
      "11f1484baea14416a4d960c9e72b1f2f",
      "c53203df7c684cd9941d4ff740423815",
      "0af6ecfbdb01482cb12d16d6a5901887",
      "ed454a982b5e4c8581892485ed358118",
      "3522426f4f13432fa7cfd9e6162029c2",
      "ee70f760aced46eca8997c2dd325e4c2",
      "f6e65273c909410e8eb99e4f67232fad",
      "5f1de17783ba4f9c8d2413f364bb182c",
      "a8887cc0ee744721a713c4847f09503b",
      "70568a0b744f4ba8b58b12878b8dcd4d",
      "74d4440f9fc34084a28ccd217ab2fa15",
      "ed691d38d5ad4582a56aa606fa79ab3e",
      "a9c198d763a04b3b87e308cf0a602caa",
      "278cb575e3dd49e2b494e97b35c80d30"
     ]
    },
    "id": "9eiS8eqnUGqi",
    "outputId": "bae2c5b8-328a-4223-ceee-99eb4ac65f97"
   },
   "outputs": [
    {
     "data": {
      "text/html": [
       "\n",
       "            <style>\n",
       "                .geemap-dark {\n",
       "                    --jp-widgets-color: white;\n",
       "                    --jp-widgets-label-color: white;\n",
       "                    --jp-ui-font-color1: white;\n",
       "                    --jp-layout-color2: #454545;\n",
       "                    background-color: #383838;\n",
       "                }\n",
       "\n",
       "                .geemap-dark .jupyter-button {\n",
       "                    --jp-layout-color3: #383838;\n",
       "                }\n",
       "\n",
       "                .geemap-colab {\n",
       "                    background-color: var(--colab-primary-surface-color, white);\n",
       "                }\n",
       "\n",
       "                .geemap-colab .jupyter-button {\n",
       "                    --jp-layout-color3: var(--colab-primary-surface-color, white);\n",
       "                }\n",
       "            </style>\n",
       "            "
      ],
      "text/plain": [
       "<IPython.core.display.HTML object>"
      ]
     },
     "metadata": {},
     "output_type": "display_data"
    },
    {
     "data": {
      "application/vnd.jupyter.widget-view+json": {
       "model_id": "ef1af3d2e9ac4223bcd018c89222a926",
       "version_major": 2,
       "version_minor": 0
      },
      "text/plain": [
       "Map(center=[20, 0], controls=(WidgetControl(options=['position', 'transparent_bg'], widget=SearchDataGUI(child…"
      ]
     },
     "metadata": {
      "application/vnd.jupyter.widget-view+json": {
       "colab": {
        "custom_widget_manager": {
         "url": "https://ssl.gstatic.com/colaboratory-static/widgets/colab-cdn-widget-manager/2b70e893a8ba7c0f/manager.min.js"
        }
       }
      }
     },
     "output_type": "display_data"
    }
   ],
   "source": [
    "import folium\n",
    "from geemap import Map\n",
    "\n",
    "# 1. Google Earth Engine の認証\n",
    "import ee\n",
    "ee.Authenticate()\n",
    "# 'your-project-id' を実際の Google Cloud プロジェクト ID に置き換えてください\n",
    "ee.Initialize(project='coral-mode-426910-u5')\n",
    "\n",
    "# 2. 気温データ（ERA5-Land, 2020年7月）\n",
    "dataset = (ee.ImageCollection('ECMWF/ERA5_LAND/MONTHLY_BY_HOUR')\n",
    "           .filter(ee.Filter.date('2020-07-01', '2020-08-01'))\n",
    "           .select('temperature_2m'))\n",
    "\n",
    "# 3. 日ごとの最大・最小温度を計算\n",
    "daily_max = dataset.max()\n",
    "daily_min = dataset.min()\n",
    "\n",
    "# 4. 月間の温度変動（最大 - 最小）の計算\n",
    "temp_variation = daily_max.subtract(daily_min)\n",
    "\n",
    "# 5. 可視化の設定（暖色系ヒートマップ）\n",
    "visualization = {\n",
    "    'min': 5.0,  # 5K以上の温度変化\n",
    "    'max': 30.0, # 30Kの変動があるエリアを強調\n",
    "    'palette': [\n",
    "        'fff5b1',  # 薄い黄色（5K）\n",
    "        'ffdb5c',  # 明るい黄色（10K）\n",
    "        'ffa500',  # オレンジ（15K）\n",
    "        'ff7300',  # 赤オレンジ（20K）\n",
    "        'ff3300',  # 赤（25K）\n",
    "        'b20000'   # 深紅（30K）\n",
    "    ]\n",
    "}\n",
    "\n",
    "# 6. geemap で地図を表示\n",
    "# 地図の初期化（中心座標を設定）\n",
    "m = Map(center=[20, 0], zoom=2)\n",
    "\n",
    "# GEE のデータを地図に追加\n",
    "m.addLayer(temp_variation, visualization, 'Temperature Variation (K)')\n",
    "\n",
    "# folium で地図を描画\n",
    "m"
   ]
  }
 ],
 "metadata": {
  "accelerator": "GPU",
  "colab": {
   "gpuType": "T4",
   "provenance": []
  },
  "kernelspec": {
   "display_name": "Python 3",
   "name": "python3"
  },
  "language_info": {
   "name": "python"
  }
 },
 "nbformat": 4,
 "nbformat_minor": 0
}
