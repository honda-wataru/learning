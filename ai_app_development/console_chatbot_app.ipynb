{
  "nbformat": 4,
  "nbformat_minor": 0,
  "metadata": {
    "colab": {
      "provenance": [],
      "gpuType": "T4"
    },
    "kernelspec": {
      "name": "python3",
      "display_name": "Python 3"
    },
    "language_info": {
      "name": "python"
    },
    "accelerator": "GPU"
  },
  "cells": [
    {
      "cell_type": "code",
      "source": [
        "!pip install openai --quiet > /dev/null 2>&1"
      ],
      "metadata": {
        "id": "8lyN8jGCD0T8"
      },
      "execution_count": 1,
      "outputs": []
    },
    {
      "cell_type": "code",
      "source": [
        "from google.colab import userdata\n",
        "import os\n",
        "from openai import OpenAI"
      ],
      "metadata": {
        "id": "UKbHEFLXloQe"
      },
      "execution_count": 2,
      "outputs": []
    },
    {
      "cell_type": "code",
      "source": [
        "# APIキーの取得\n",
        "api_key = userdata.get(\"api_key\")  # Colab左メニュー「シークレット」に登録済みの \"api_key\"\n",
        "os.environ[\"OPENAI_API_KEY\"] = api_key\n",
        "client = OpenAI(api_key=api_key)"
      ],
      "metadata": {
        "id": "dzsfPqcGlQNd"
      },
      "execution_count": 3,
      "outputs": []
    },
    {
      "cell_type": "code",
      "source": [
        "# 1. シングルプロンプト応答 (AIバリスタ編)\n",
        "completion = client.chat.completions.create(\n",
        "    model=\"gpt-3.5-turbo\",\n",
        "    messages=[\n",
        "        {\"role\": \"system\", \"content\": \"あなたは丁寧で親しみやすいAIバリスタです。コーヒーに詳しく、お客さんとの会話が得意です。\"},\n",
        "        {\"role\": \"user\", \"content\": \"おすすめのコーヒー豆を教えてください。\"}\n",
        "    ]\n",
        ")\n",
        "\n",
        "print(\"☕ バリスタのおすすめ:\")\n",
        "print(completion.choices[0].message.content)"
      ],
      "metadata": {
        "colab": {
          "base_uri": "https://localhost:8080/"
        },
        "id": "cr41769xmEmS",
        "outputId": "dcd52e5a-ae0a-4e54-c8a0-c69ca985ce70"
      },
      "execution_count": 4,
      "outputs": [
        {
          "output_type": "stream",
          "name": "stdout",
          "text": [
            "☕ バリスタのおすすめ:\n",
            "もちろんです！おすすめのコーヒー豆は、エチオピアのイルガチェフェ地域で栽培されたイルガチェフェコーヒーです。イルガチェフェは、フルーティーでフローラルな香りが特徴で、口当たりもなめらかで上品な味わいがあります。是非、お試しいただければと思います。その他にも、コロンビアのスプレモ、ケニアのAAなどもおすすめです。お好みの味わいがあれば、それに合ったコーヒー豆をお選びいただくことが大切です。\n"
          ]
        }
      ]
    },
    {
      "cell_type": "code",
      "source": [
        "# 2. ストリーミング応答 (旅先読書アドバイス編)\n",
        "print(\"\\n📚 旅先での読書アドバイス (ストリーミング応答):\")\n",
        "\n",
        "stream = client.chat.completions.create(\n",
        "    model=\"gpt-4-1106-preview\",\n",
        "    messages=[\n",
        "        {\"role\": \"system\", \"content\": \"あなたは、旅好きの読書家AIです。行き先や気分に合わせて最適な本をおすすめします。\"},\n",
        "        {\"role\": \"user\", \"content\": \"温泉旅館でゆったり読める本を教えてください。\"}\n",
        "    ],\n",
        "    stream=True,\n",
        ")\n",
        "\n",
        "for chunk in stream:\n",
        "    if chunk.choices[0].delta.content:\n",
        "        print(chunk.choices[0].delta.content, end=\"\")"
      ],
      "metadata": {
        "colab": {
          "base_uri": "https://localhost:8080/"
        },
        "id": "fcwl2ntVmRNP",
        "outputId": "e27d68e7-c413-4459-88f2-1898c7e2f276"
      },
      "execution_count": 5,
      "outputs": [
        {
          "output_type": "stream",
          "name": "stdout",
          "text": [
            "\n",
            "📚 旅先での読書アドバイス (ストリーミング応答):\n",
            "温泉旅館でのんびりと読むのにピッタリな本は、読後感が温かく心地よく、ゆったりとした時間をさらに豊かに彩るような作品が最適です。以下にいくつかおすすめを挙げてみます。\n",
            "\n",
            "1.『こころ』夏目漱石\n",
            "   - 日本の古典文学の中でも特に心理描写が深く、哲学的な問題を投げかける作品です。温泉旅館の静けさの中で、心の奥深くを探る旅に出るのに適しています。\n",
            "\n",
            "2.『ノルウェイの森』村上春樹\n",
            "   - 村上春樹の温かみのある筆致と、懐かしさを感じさせる物語は、ゆっくりと時間をかけて味わいたい読書体験にぴったりです。\n",
            "\n",
            "3.『海辺のカフカ』村上春樹\n",
            "   - 静かな旅館の雰囲気に合わせて、神秘的で深遠な物語に浸ることができる作品です。心地よい疲れを感じながら読み進めることで、より一層物語の世界へ没入できるでしょう。\n",
            "\n",
            "4.『ねじまき鳥クロニクル』村上春樹\n",
            "   - 村上春樹の中でも比較的長編のこの作品は、時間を忘れてじっくり読みたい人に最適です。複雑に絡み合うストーリーが、温泉旅館でのんびりとした時の流れと共に読者を惹きつけます。\n",
            "\n",
            "5.『おしゃれな猫のプーちゃん』吉村達也\n",
            "   - 猫が主人公のこのエッセイ集は、ほのぼのとした気分で読めるため、リラックスしたい温泉旅館での休日にぴったりです。\n",
            "\n",
            "6.『枕草子』清少納言\n",
            "   - 日本の古典のエッセイ集で、豊かな自然や季節の移り変わりについての観察が綴られています。温泉旅館の風情とマッチし、日本の四季を感じながら読むことができます。\n",
            "\n",
            "自分の気分や関心に合わせて、これらの本の中から選ぶと良いでしょう。ゆったりと流れる時間の中で、心と身体の両方が癒される読書を楽しんでください。"
          ]
        }
      ]
    },
    {
      "cell_type": "code",
      "source": [
        "# 3. インタラクティブチャットループ (自由対話)\n",
        "print(\"\\n\\n🔁 Chat Mode (type 'quit' to exit)\")\n",
        "\n",
        "messages = []\n",
        "\n",
        "while True:\n",
        "    user_input = input(\"You: \")\n",
        "    if user_input.lower() == \"quit\":\n",
        "        break\n",
        "\n",
        "    messages.append({\"role\": \"user\", \"content\": user_input})\n",
        "\n",
        "    response = client.chat.completions.create(\n",
        "        model=\"gpt-4-1106-preview\",\n",
        "        messages=messages,\n",
        "        stream=False,\n",
        "    )\n",
        "\n",
        "    ai_response = response.choices[0].message.content\n",
        "    print(\"AI:\", ai_response)\n",
        "\n",
        "    messages.append({\"role\": \"assistant\", \"content\": ai_response})"
      ],
      "metadata": {
        "colab": {
          "base_uri": "https://localhost:8080/"
        },
        "id": "iLXIC7TBlQQR",
        "outputId": "89c7f7a2-79a4-4ff8-fdf7-25daafe20a08"
      },
      "execution_count": null,
      "outputs": [
        {
          "output_type": "stream",
          "name": "stdout",
          "text": [
            "\n",
            "\n",
            "🔁 Chat Mode (type 'quit' to exit)\n",
            "You: こんにちは。いい天気ですね。\n",
            "AI: こんにちは！お天気がいい日は気分も晴れやかになりますね。何か特別な予定がありますか？それとも、ただ景色を楽しんでいらっしゃるのでしょうか？\n",
            "You: 公園にでも行こうかと思ってます。\n",
            "AI: 公園は良いですね！新鮮な空気を吸いながら、木々や花々を眺めるのはとても心地よいものです。季節によっては、さまざまな自然の変化を楽しむこともできますね。お散歩やピクニック、読書やスポーツなど、楽しみ方も色々ありますから、思いっきり楽しんできてくださいね。\n",
            "You: じゃあ、お弁当でも作って行こうかな。おすすめあります？\n",
            "AI: お弁当を作るのは素晴らしいアイディアですね！公園で食べるお弁当は格別です。以下にいくつかおすすめのお弁当メニューを紹介します：\n",
            "\n",
            "1. オニギリ：具材には梅干しや鮭、ツナマヨネーズなどが定番で、手軽に食べられて便利です。\n",
            "2. 唐揚げ：事前に作っておいても冷めても美味しいので、ピクニックにぴったりです。\n",
            "3. 卵焼き：甘辛の味付けで、子供から大人まで楽しめるお弁当の定番です。\n",
            "4. ミニトマトやきゅうりのスティック：彩りも鮮やかで、さっぱりとした口当たりが良いです。\n",
            "5. マカロニサラダ：事前に冷蔵庫で冷やしておけば、ピクニックの際にはちょうど良い温度になります。\n",
            "\n",
            "デザートには、フルーツや手作りのクッキーなどを加えると、食後も楽しめます。飲み物は水やお茶、ジュースを持参するといいでしょう。\n",
            "\n",
            "ただし、公園で食事をする際は、ゴミの後片付けを忘れずにしましょうね。楽しいピクニックとなりますように！\n",
            "You: すごく参考になりました！ありがとう。じゃあ、そろそろ準備して出かけてきます。\n",
            "AI: どういたしまして、準備とピクニックを存分にお楽しみください！もし何か困ったことがありましたら、またいつでも聞いてくださいね。安全に気をつけて、素敵な一日をお過ごしください！さようなら！\n"
          ]
        }
      ]
    }
  ]
}