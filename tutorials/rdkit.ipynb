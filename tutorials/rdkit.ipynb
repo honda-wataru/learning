{
  "nbformat": 4,
  "nbformat_minor": 0,
  "metadata": {
    "colab": {
      "provenance": []
    },
    "kernelspec": {
      "name": "python3",
      "display_name": "Python 3"
    },
    "language_info": {
      "name": "python"
    }
  },
  "cells": [
    {
      "cell_type": "code",
      "source": [
        "!pip install numpy==1.26.4 --quiet > /dev/null 2>&1\n",
        "import os\n",
        "os.kill(os.getpid(), 9)"
      ],
      "metadata": {
        "id": "xTDSgANRqU45"
      },
      "execution_count": null,
      "outputs": []
    },
    {
      "cell_type": "code",
      "source": [
        "import numpy\n",
        "!pip install rdkit-pypi --quiet > /dev/null 2>&1"
      ],
      "metadata": {
        "id": "PfYJLfrT2ORq"
      },
      "execution_count": 1,
      "outputs": []
    },
    {
      "cell_type": "code",
      "source": [
        "from rdkit import Chem\n",
        "from rdkit.Chem import Draw\n",
        "import matplotlib.pyplot as plt\n",
        "import io\n",
        "import sys\n",
        "\n",
        "def display_smiles(smiles_string):\n",
        "    # SMILES表記から分子を生成\n",
        "    mol = Chem.MolFromSmiles(smiles_string)\n",
        "\n",
        "    # 分子が正しく生成できたか確認\n",
        "    if mol is None:\n",
        "        print(\"無効なSMILES表記です。\")\n",
        "        return\n",
        "\n",
        "    # 分子の構造式を描画\n",
        "    img = Draw.MolToImage(mol, size=(300, 300))\n",
        "\n",
        "    # 画像を表示\n",
        "    plt.imshow(img)\n",
        "    plt.axis('off')  # 軸を非表示\n",
        "    plt.show()\n",
        "\n",
        "def main():\n",
        "    # ユーザーにSMILES表記をCCO入力させる\n",
        "    smiles_string = input(\"SMILES表記を入力してください: \")\n",
        "    display_smiles(smiles_string)\n",
        "\n",
        "if __name__ == \"__main__\":\n",
        "    main()"
      ],
      "metadata": {
        "colab": {
          "base_uri": "https://localhost:8080/",
          "height": 424
        },
        "id": "2nxYMwRDsAXk",
        "outputId": "07c54d8a-8cc7-4d3c-ed94-9f77be48a3ea"
      },
      "execution_count": 2,
      "outputs": [
        {
          "name": "stdout",
          "output_type": "stream",
          "text": [
            "SMILES表記を入力してください: CCO\n"
          ]
        },
        {
          "output_type": "display_data",
          "data": {
            "text/plain": [
              "<Figure size 640x480 with 1 Axes>"
            ],
            "image/png": "[encoded data removed]"
          },
          "metadata": {}
        }
      ]
    }
  ]
}