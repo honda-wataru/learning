{
  "cells": [
    {
      "cell_type": "code",
      "source": [
        "# 1. Stable Diffusion Web UI のインストール\n",
        "# リポジトリの複製\n",
        "!git clone https://github.com/AUTOMATIC1111/stable-diffusion-webui --quiet > /dev/null 2>&1\n",
        "\n",
        "# ディレクトリ移動 & 起動\n",
        "%cd /content/stable-diffusion-webui\n",
        "!python launch.py --share --enable-insecure-extension-access"
      ],
      "metadata": {
        "colab": {
          "base_uri": "https://localhost:8080/"
        },
        "id": "XO3DietrwBVs",
        "outputId": "65e99bab-cc8a-48f2-cdc3-3a2096d7ead2"
      },
      "execution_count": 1,
      "outputs": [
        {
          "output_type": "stream",
          "name": "stdout",
          "text": [
            "/content/stable-diffusion-webui\n",
            "Python 3.11.12 (main, Apr  9 2025, 08:55:54) [GCC 11.4.0]\n",
            "Version: v1.10.1\n",
            "Commit hash: 82a973c04367123ae98bd9abdf80d9eda9b910e2\n",
            "Installing clip\n",
            "Installing open_clip\n",
            "Cloning assets into /content/stable-diffusion-webui/repositories/stable-diffusion-webui-assets...\n",
            "Cloning into '/content/stable-diffusion-webui/repositories/stable-diffusion-webui-assets'...\n",
            "remote: Enumerating objects: 20, done.\u001b[K\n",
            "remote: Counting objects: 100% (20/20), done.\u001b[K\n",
            "remote: Compressing objects: 100% (18/18), done.\u001b[K\n",
            "remote: Total 20 (delta 0), reused 20 (delta 0), pack-reused 0 (from 0)\u001b[K\n",
            "Receiving objects: 100% (20/20), 132.70 KiB | 763.00 KiB/s, done.\n",
            "Cloning Stable Diffusion into /content/stable-diffusion-webui/repositories/stable-diffusion-stability-ai...\n",
            "Cloning into '/content/stable-diffusion-webui/repositories/stable-diffusion-stability-ai'...\n",
            "remote: Enumerating objects: 580, done.\u001b[K\n",
            "remote: Counting objects: 100% (2/2), done.\u001b[K\n",
            "remote: Compressing objects: 100% (2/2), done.\u001b[K\n",
            "remote: Total 580 (delta 0), reused 0 (delta 0), pack-reused 578 (from 3)\u001b[K\n",
            "Receiving objects: 100% (580/580), 73.44 MiB | 25.60 MiB/s, done.\n",
            "Resolving deltas: 100% (281/281), done.\n",
            "Cloning Stable Diffusion XL into /content/stable-diffusion-webui/repositories/generative-models...\n",
            "Cloning into '/content/stable-diffusion-webui/repositories/generative-models'...\n",
            "remote: Enumerating objects: 1119, done.\u001b[K\n",
            "remote: Counting objects: 100% (516/516), done.\u001b[K\n",
            "remote: Compressing objects: 100% (147/147), done.\u001b[K\n",
            "remote: Total 1119 (delta 412), reused 369 (delta 369), pack-reused 603 (from 2)\u001b[K\n",
            "Receiving objects: 100% (1119/1119), 86.67 MiB | 31.29 MiB/s, done.\n",
            "Resolving deltas: 100% (582/582), done.\n",
            "Cloning K-diffusion into /content/stable-diffusion-webui/repositories/k-diffusion...\n",
            "Cloning into '/content/stable-diffusion-webui/repositories/k-diffusion'...\n",
            "remote: Enumerating objects: 1350, done.\u001b[K\n",
            "remote: Counting objects: 100% (651/651), done.\u001b[K\n",
            "remote: Compressing objects: 100% (87/87), done.\u001b[K\n",
            "remote: Total 1350 (delta 608), reused 566 (delta 564), pack-reused 699 (from 1)\u001b[K\n",
            "Receiving objects: 100% (1350/1350), 239.59 KiB | 1.27 MiB/s, done.\n",
            "Resolving deltas: 100% (948/948), done.\n",
            "Cloning BLIP into /content/stable-diffusion-webui/repositories/BLIP...\n",
            "Cloning into '/content/stable-diffusion-webui/repositories/BLIP'...\n",
            "remote: Enumerating objects: 277, done.\u001b[K\n",
            "remote: Counting objects: 100% (183/183), done.\u001b[K\n",
            "remote: Compressing objects: 100% (46/46), done.\u001b[K\n",
            "remote: Total 277 (delta 145), reused 137 (delta 137), pack-reused 94 (from 1)\u001b[K\n",
            "Receiving objects: 100% (277/277), 7.04 MiB | 11.62 MiB/s, done.\n",
            "Resolving deltas: 100% (152/152), done.\n",
            "Installing requirements\n",
            "Launching Web UI with arguments: --share --enable-insecure-extension-access\n",
            "2025-05-19 13:42:52.476733: E external/local_xla/xla/stream_executor/cuda/cuda_fft.cc:477] Unable to register cuFFT factory: Attempting to register factory for plugin cuFFT when one has already been registered\n",
            "WARNING: All log messages before absl::InitializeLog() is called are written to STDERR\n",
            "E0000 00:00:1747662172.681014     292 cuda_dnn.cc:8310] Unable to register cuDNN factory: Attempting to register factory for plugin cuDNN when one has already been registered\n",
            "E0000 00:00:1747662172.733976     292 cuda_blas.cc:1418] Unable to register cuBLAS factory: Attempting to register factory for plugin cuBLAS when one has already been registered\n",
            "/usr/local/lib/python3.11/dist-packages/timm/models/layers/__init__.py:48: FutureWarning: Importing from timm.models.layers is deprecated, please import via timm.layers\n",
            "  warnings.warn(f\"Importing from {__name__} is deprecated, please import via timm.layers\", FutureWarning)\n",
            "no module 'xformers'. Processing without...\n",
            "no module 'xformers'. Processing without...\n",
            "No module 'xformers'. Proceeding without it.\n",
            "Downloading: \"https://huggingface.co/runwayml/stable-diffusion-v1-5/resolve/main/v1-5-pruned-emaonly.safetensors\" to /content/stable-diffusion-webui/models/Stable-diffusion/v1-5-pruned-emaonly.safetensors\n",
            "\n",
            "100% 3.97G/3.97G [00:49<00:00, 85.3MB/s]\n",
            "Calculating sha256 for /content/stable-diffusion-webui/models/Stable-diffusion/v1-5-pruned-emaonly.safetensors: Running on local URL:  http://127.0.0.1:7860\n",
            "Running on public URL: https://96d9c6c2cf640284c9.gradio.live\n",
            "\n",
            "This share link expires in 72 hours. For free permanent hosting and GPU upgrades, run `gradio deploy` from Terminal to deploy to Spaces (https://huggingface.co/spaces)\n",
            "Startup time: 246.4s (prepare environment: 169.5s, import torch: 14.1s, import gradio: 1.4s, setup paths: 6.7s, initialize shared: 0.3s, other imports: 0.5s, list SD models: 50.9s, load scripts: 1.1s, create ui: 0.5s, gradio launch: 1.2s).\n",
            "6ce0161689b3853acaa03779ec93eafe75a02f4ced659bee03f50797806fa2fa\n",
            "Loading weights [6ce0161689] from /content/stable-diffusion-webui/models/Stable-diffusion/v1-5-pruned-emaonly.safetensors\n",
            "Creating model from config: /content/stable-diffusion-webui/configs/v1-inference.yaml\n",
            "/usr/local/lib/python3.11/dist-packages/huggingface_hub/file_download.py:943: FutureWarning: `resume_download` is deprecated and will be removed in version 1.0.0. Downloads always resume when possible. If you want to force a new download, use `force_download=True`.\n",
            "  warnings.warn(\n",
            "vocab.json: 100% 961k/961k [00:00<00:00, 13.4MB/s]\n",
            "merges.txt: 100% 525k/525k [00:00<00:00, 7.90MB/s]\n",
            "special_tokens_map.json: 100% 389/389 [00:00<00:00, 3.59MB/s]\n",
            "tokenizer_config.json: 100% 905/905 [00:00<00:00, 7.62MB/s]\n",
            "config.json: 100% 4.52k/4.52k [00:00<00:00, 21.5MB/s]\n",
            "Applying attention optimization: Doggettx... done.\n",
            "Model loaded in 22.4s (calculate hash: 13.5s, create model: 1.6s, apply weights to model: 6.3s, apply half(): 0.1s, load textual inversion embeddings: 0.1s, calculate empty prompt: 0.6s).\n",
            "Interrupted with signal 2 in <frame at 0x7eb4aee2fae0, file '/usr/lib/python3.11/threading.py', line 331, code wait>\n"
          ]
        }
      ]
    },
    {
      "cell_type": "code",
      "source": [
        "# 2. Accelerate の設定 & Hugging Face ログイン\n",
        "!accelerate config default --compute_environment cpu --mixed_precision no --save_to_config\n",
        "!huggingface-cli login"
      ],
      "metadata": {
        "id": "72zEAqlTzG30",
        "outputId": "156bfae6-f43b-413e-c2a2-85346de47c00",
        "colab": {
          "base_uri": "https://localhost:8080/"
        }
      },
      "execution_count": 4,
      "outputs": [
        {
          "output_type": "stream",
          "name": "stdout",
          "text": [
            "2025-05-19 13:52:25.498405: E external/local_xla/xla/stream_executor/cuda/cuda_fft.cc:477] Unable to register cuFFT factory: Attempting to register factory for plugin cuFFT when one has already been registered\n",
            "WARNING: All log messages before absl::InitializeLog() is called are written to STDERR\n",
            "E0000 00:00:1747662745.518255    3699 cuda_dnn.cc:8310] Unable to register cuDNN factory: Attempting to register factory for plugin cuDNN when one has already been registered\n",
            "E0000 00:00:1747662745.524431    3699 cuda_blas.cc:1418] Unable to register cuBLAS factory: Attempting to register factory for plugin cuBLAS when one has already been registered\n",
            "usage: accelerate <command> [<args>]\n",
            "Accelerate CLI tool: error: unrecognized arguments: --compute_environment cpu --save_to_config\n",
            "\n",
            "    _|    _|  _|    _|    _|_|_|    _|_|_|  _|_|_|  _|      _|    _|_|_|      _|_|_|_|    _|_|      _|_|_|  _|_|_|_|\n",
            "    _|    _|  _|    _|  _|        _|          _|    _|_|    _|  _|            _|        _|    _|  _|        _|\n",
            "    _|_|_|_|  _|    _|  _|  _|_|  _|  _|_|    _|    _|  _|  _|  _|  _|_|      _|_|_|    _|_|_|_|  _|        _|_|_|\n",
            "    _|    _|  _|    _|  _|    _|  _|    _|    _|    _|    _|_|  _|    _|      _|        _|    _|  _|        _|\n",
            "    _|    _|    _|_|      _|_|_|    _|_|_|  _|_|_|  _|      _|    _|_|_|      _|        _|    _|    _|_|_|  _|_|_|_|\n",
            "\n",
            "    To log in, `huggingface_hub` requires a token generated from https://huggingface.co/settings/tokens .\n",
            "Enter your token (input will not be visible): \n",
            "Add token as git credential? (Y/n) \n",
            "Token is valid (permission: fineGrained).\n",
            "The token `first_token` has been saved to /root/.cache/huggingface/stored_tokens\n",
            "\u001b[1m\u001b[31mCannot authenticate through git-credential as no helper is defined on your machine.\n",
            "You might have to re-authenticate when pushing to the Hugging Face Hub.\n",
            "Run the following command in your terminal in case you want to set the 'store' credential helper as default.\n",
            "\n",
            "git config --global credential.helper store\n",
            "\n",
            "Read https://git-scm.com/book/en/v2/Git-Tools-Credential-Storage for more details.\u001b[0m\n",
            "Token has not been saved to git credential helper.\n",
            "Your token has been saved to /root/.cache/huggingface/token\n",
            "Login successful.\n",
            "The current active token is: `first_token`\n"
          ]
        }
      ]
    }
  ],
  "metadata": {
    "colab": {
      "name": "Colab へようこそ",
      "provenance": [],
      "gpuType": "T4"
    },
    "kernelspec": {
      "display_name": "Python 3",
      "name": "python3"
    },
    "accelerator": "GPU"
  },
  "nbformat": 4,
  "nbformat_minor": 0
}