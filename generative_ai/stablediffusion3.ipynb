{
  "nbformat": 4,
  "nbformat_minor": 0,
  "metadata": {
    "colab": {
      "provenance": [],
      "gpuType": "T4"
    },
    "kernelspec": {
      "name": "python3",
      "display_name": "Python 3"
    },
    "language_info": {
      "name": "python"
    },
    "accelerator": "GPU"
  },
  "cells": [
    {
      "cell_type": "code",
      "source": [
        "# 1. Stable Diffusion Web UI のインストール\n",
        "!git clone https://github.com/AUTOMATIC1111/stable-diffusion-webui --quiet > /dev/null 2>&1. # リポジトリの複製\n",
        "\n",
        "%cd /content/stable-diffusion-webui. # ディレクトリ移動\n",
        "!python launch.py --share --enable-insecure-extension-access. # 起動"
      ],
      "metadata": {
        "id": "NsNbdutZjn2T"
      },
      "execution_count": null,
      "outputs": []
    },
    {
      "cell_type": "code",
      "source": [
        "# 2. Accelerate の設定 & Hugging Face ログイン\n",
        "accelerate config\n",
        "huggingface-cli login"
      ],
      "metadata": {
        "id": "8umZhhtVmEUb"
      },
      "execution_count": null,
      "outputs": []
    },
    {
      "cell_type": "code",
      "source": [
        "# 3. 画像生成（モデルを使うだけ）\n",
        "from diffusers import StableDiffusionPipeline\n",
        "import torch\n",
        "\n",
        "pipe = StableDiffusionPipeline.from_pretrained(\"CompVis/stable-diffusion-v1-4\", torch_dtype=torch.float16)\n",
        "pipe = pipe.to(\"cuda\")\n",
        "\n",
        "prompt = \"A futuristic cityscape at sunset\"\n",
        "image = pipe(prompt).images[0]\n",
        "image.save(\"output.png\")"
      ],
      "metadata": {
        "id": "RpUaGtuZlfWm"
      },
      "execution_count": null,
      "outputs": []
    },
    {
      "cell_type": "code",
      "source": [
        "# 4. モデルをファインチューニング（学習）\n",
        "!git clone https://github.com/huggingface/diffusers\n",
        "%cd diffusers\n",
        "!pip install -e .\n",
        "!pip install -r examples/dreambooth/requirements.txt\n",
        "\n",
        "# 学習開始（例：自分の画像で学習）\n",
        "accelerate launch examples/dreambooth/train_dreambooth.py \\\n",
        "  --pretrained_model_name_or_path=\"CompVis/stable-diffusion-v1-4\" \\\n",
        "  --instance_data_dir=\"./my-data\" \\\n",
        "  --output_dir=\"./dreambooth-output\" \\\n",
        "  --instance_prompt=\"a photo of sks person\" \\\n",
        "  --resolution=512 \\\n",
        "  --train_batch_size=1 \\\n",
        "  --gradient_accumulation_steps=1 \\\n",
        "  --learning_rate=5e-6 \\\n",
        "  --lr_scheduler=\"constant\" \\\n",
        "  --max_train_steps=400"
      ],
      "metadata": {
        "id": "2LZZ-KCPmoA8"
      },
      "execution_count": null,
      "outputs": []
    }
  ]
}